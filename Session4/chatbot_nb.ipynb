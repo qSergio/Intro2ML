{
 "cells": [
  {
   "cell_type": "code",
   "execution_count": null,
   "id": "644bee8b-0227-472d-8e29-a54bd4a83b04",
   "metadata": {},
   "outputs": [],
   "source": [
    "from chatterbot import ChatBot\n",
    "from chatterbot.trainers import ListTrainer, ChatterBotCorpusTrainer\n",
    "import pandas as pd\n",
    "\n",
    "cx_bot = ChatBot(name='PyBot', \n",
    "                read_only=True,\n",
    "                logic_adapters=['chatterbot.logic.MathematicalEvaluation',\n",
    "                    'chatterbot.logic.BestMatch'])\n",
    "\n",
    "#comments = pd.read_csv('')\n",
    "\n",
    "small_talk = ['hi there!',\n",
    "          'hi!',\n",
    "          'how do you do?',\n",
    "          'how are you?',\n",
    "          'i\\'m cool.',\n",
    "          'fine, you?',\n",
    "          'always cool.',\n",
    "          'i\\'m ok',\n",
    "          'glad to hear that.',\n",
    "          'i\\'m fine',\n",
    "          'glad to hear that.',\n",
    "          'i feel awesome',\n",
    "          'excellent, glad to hear that.',\n",
    "          'not so good',\n",
    "          'sorry to hear that.',\n",
    "          'what\\'s your name?',\n",
    "          'i\\'m pybot. ask me a math question, please.']\n",
    "\n",
    "my_comments = ['August is cool', 'Great customer service']\n",
    "\n",
    "#other_comments = ['']\n",
    "\n",
    "list_trainer = ListTrainer(cx_bot)\n",
    "\n",
    "for item in (my_comments, small_talk):\n",
    "    list_trainer.train(item)\n",
    "\n",
    "corpus_trainer = ChatterBotCorpusTrainer(cx_bot)\n",
    "corpus_trainer.train('chatterbot.corpus.english')\n",
    "\n",
    "while true:\n",
    "    try:\n",
    "        bot_input = input(\"You: \")\n",
    "        bot_response = cx_bot.get_response(bot input)\n",
    "        print(f\"{cx_bot.name}: {bot_response}\")\n",
    "    except (KeyboardInterrupt, EOFError, SystemExit):\n",
    "        break;\n"
   ]
  }
 ],
 "metadata": {
  "kernelspec": {
   "display_name": "Python 3",
   "language": "python",
   "name": "python3"
  },
  "language_info": {
   "codemirror_mode": {
    "name": "ipython",
    "version": 3
   },
   "file_extension": ".py",
   "mimetype": "text/x-python",
   "name": "python",
   "nbconvert_exporter": "python",
   "pygments_lexer": "ipython3",
   "version": "3.9.5"
  }
 },
 "nbformat": 4,
 "nbformat_minor": 5
}

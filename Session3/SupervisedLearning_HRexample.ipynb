{
 "cells": [
  {
   "cell_type": "code",
   "execution_count": null,
   "id": "0d2507f4-bd51-4f60-9d68-c634dd47e72b",
   "metadata": {},
   "outputs": [],
   "source": [
    "import pandas as pd\n",
    "import seaborn as sns\n",
    "import matplotlib.pyplot as plt\n",
    "\n",
    "## For plotting\n",
    "import plotly.express as px\n",
    "import plotly.graph_objects as go\n",
    "import plotly.tools"
   ]
  },
  {
   "cell_type": "code",
   "execution_count": null,
   "id": "b9fe1520-f3a4-4cdb-a4a8-72f78be39a2a",
   "metadata": {},
   "outputs": [],
   "source": [
    "pd.set_option('display.max_rows', None)\n",
    "pd.set_option('display.max_columns', None)"
   ]
  },
  {
   "cell_type": "code",
   "execution_count": null,
   "id": "8460551d-3336-4a7f-b346-a67493a47191",
   "metadata": {},
   "outputs": [],
   "source": [
    "#from google.colab import files\n",
    "#uploaded = files.upload()"
   ]
  },
  {
   "cell_type": "code",
   "execution_count": null,
   "id": "efe9df02-eb7d-4e07-93ec-b7f82a9ad939",
   "metadata": {},
   "outputs": [],
   "source": [
    "hrdata = pd.read_csv('HR.csv')"
   ]
  },
  {
   "cell_type": "code",
   "execution_count": null,
   "id": "6f473167-c2cf-47f0-9190-586d22e467eb",
   "metadata": {},
   "outputs": [],
   "source": [
    "hrdata.shape"
   ]
  },
  {
   "cell_type": "code",
   "execution_count": null,
   "id": "9bb4a9c9-4462-4595-b33e-c22d914bcb70",
   "metadata": {},
   "outputs": [],
   "source": [
    "hrdata.head()"
   ]
  },
  {
   "cell_type": "code",
   "execution_count": null,
   "id": "e3077fc1-dc6a-41c1-90cf-bb7532715724",
   "metadata": {},
   "outputs": [],
   "source": [
    "hrdata.info()"
   ]
  },
  {
   "cell_type": "code",
   "execution_count": null,
   "id": "deb0c36e-caff-4382-b12a-487b4fe6a28e",
   "metadata": {},
   "outputs": [],
   "source": [
    "hrdata.Age.hist(bins=30)"
   ]
  },
  {
   "cell_type": "code",
   "execution_count": null,
   "id": "396b8621-7c94-4cde-af07-fed3c6b147b8",
   "metadata": {},
   "outputs": [],
   "source": [
    "hrdata.Age.describe()"
   ]
  },
  {
   "cell_type": "code",
   "execution_count": null,
   "id": "6cd2c441-0e60-48b5-ad5e-dd0bdf69858a",
   "metadata": {},
   "outputs": [],
   "source": [
    "hrdata[hrdata['Attrition'] == 'Yes'].Age.describe()"
   ]
  },
  {
   "cell_type": "code",
   "execution_count": null,
   "id": "fa91cefe-4367-455c-b310-d2665afe8a60",
   "metadata": {},
   "outputs": [],
   "source": [
    "hrdata.Age.hist(figsize=(6,8), bins=30, alpha=0.6)\n",
    "\n",
    "hrdata[hrdata['Attrition'] == 'Yes'].Age.hist( bins=30, alpha=0.8)"
   ]
  },
  {
   "cell_type": "code",
   "execution_count": null,
   "id": "ceee1306-c24a-4275-bc35-edfbcbdaaeea",
   "metadata": {},
   "outputs": [],
   "source": [
    "hrdata['Attrition'].value_counts()"
   ]
  },
  {
   "cell_type": "code",
   "execution_count": null,
   "id": "fba93cbc-99bc-4b34-a91c-c245f0965399",
   "metadata": {},
   "outputs": [],
   "source": [
    "hrdata['Attrition'].value_counts(normalize=True)"
   ]
  },
  {
   "cell_type": "code",
   "execution_count": null,
   "id": "f5a3daf3-dc57-4ddd-9b13-f2f366eee067",
   "metadata": {},
   "outputs": [],
   "source": [
    "hrdata.YearsWithCurrManager.hist(figsize=(6,8), bins=15, alpha=0.6)\n",
    "hrdata[hrdata['Attrition']=='Yes'].YearsWithCurrManager.hist(figsize=(6,8), bins=15, alpha=0.8)"
   ]
  },
  {
   "cell_type": "code",
   "execution_count": null,
   "id": "6d67e943-e199-4480-9bec-a4b3116e1267",
   "metadata": {},
   "outputs": [],
   "source": [
    "corrMatrix = hrdata.corr()"
   ]
  },
  {
   "cell_type": "code",
   "execution_count": null,
   "id": "96886be4-beed-4c1c-96fd-d1359fcefb8b",
   "metadata": {},
   "outputs": [],
   "source": [
    "#figsize=(8,10)\n",
    "sns.set(rc={'figure.figsize':(25,10)})\n",
    "sns.heatmap(corrMatrix, annot=True, cmap=\"Blues\")\n",
    "plt.show()"
   ]
  },
  {
   "cell_type": "code",
   "execution_count": null,
   "id": "50313a81-edfe-4aee-9d30-55d75838bad9",
   "metadata": {},
   "outputs": [],
   "source": []
  },
  {
   "cell_type": "code",
   "execution_count": null,
   "id": "4624642f-afe9-4efe-8031-c6646e01e172",
   "metadata": {},
   "outputs": [],
   "source": [
    "hrdata.corr()#['Attrition'].sort_values(ascending=False)"
   ]
  },
  {
   "cell_type": "code",
   "execution_count": null,
   "id": "752d04b0-a55b-4001-8352-afe064fee4ac",
   "metadata": {},
   "outputs": [],
   "source": [
    "num_cols = hrdata.corr().columns"
   ]
  },
  {
   "cell_type": "code",
   "execution_count": null,
   "id": "c2307ae9-e7fa-47fc-b2f4-dec48e2b8c37",
   "metadata": {},
   "outputs": [],
   "source": [
    "#sns.pairplot(hrdata[[\"JobInvolvement\",\"StockOptionLevel\",\n",
    "#                 \"JobLevel\",\"TotalWorkingYears\",\n",
    "#                 \"YearsInCurrentRole\",\"Attrition\"]],\n",
    "#             hue=\"Attrition\")"
   ]
  },
  {
   "cell_type": "code",
   "execution_count": null,
   "id": "c8ef177a-0f71-4338-bbfb-eee5a32338e7",
   "metadata": {},
   "outputs": [],
   "source": [
    "fig = px.bar(x=hrdata['Attrition'].value_counts().index,\n",
    "             y=hrdata['Attrition'].value_counts(), \n",
    "             title='Attrition Distribution', \n",
    "             text=(hrdata['Attrition'].value_counts()/len(hrdata['Attrition'])*100))\n",
    "\n",
    "fig.update_traces(textposition='outside', \n",
    "                  texttemplate='%{text:.4s}%',\n",
    "                  marker = dict(color = ['silver','gainsboro'],line = dict(color = \"black\", width = 3)))\n",
    "\n",
    "fig['layout'].update(height=500, width=600)\n",
    "fig.show()"
   ]
  },
  {
   "cell_type": "code",
   "execution_count": null,
   "id": "35d8824f-546f-4b8c-ac92-8cceae3ecc89",
   "metadata": {},
   "outputs": [],
   "source": [
    "fig = px.histogram(x=hrdata['BusinessTravel'], \n",
    "                   color=hrdata['Attrition'],\n",
    "                   barmode='group',\n",
    "                   color_discrete_sequence=['lemonchiffon','darkkhaki'], \n",
    "                   height=500, \n",
    "                   width=600,\n",
    "                  title='Business Travel VS Attrition')\n",
    "fig.show()"
   ]
  },
  {
   "cell_type": "code",
   "execution_count": null,
   "id": "c026d52c-8a0a-44d1-a2a7-fb1c7144b575",
   "metadata": {},
   "outputs": [],
   "source": [
    "fig = px.pie(values=hrdata['Department'].value_counts(),\n",
    "             names=hrdata['Department'].value_counts().index, \n",
    "             title='Department')\n",
    "fig.update_traces(marker = dict(colors = ['violet','plum','thistle'],\n",
    "                                line = dict(color = \"mediumpurple\", width = 2)))\n",
    "fig.show()"
   ]
  },
  {
   "cell_type": "code",
   "execution_count": null,
   "id": "018491e3-0171-47f5-a6c2-ce2341f0feb5",
   "metadata": {},
   "outputs": [],
   "source": [
    "fig = px.histogram(x=hrdata['Department'], \n",
    "                   color=hrdata['Attrition'],\n",
    "                   barmode='group',\n",
    "                   color_discrete_sequence=['plum','purple'], \n",
    "                   height=500, \n",
    "                   width=600,\n",
    "                  title='Department VS Attrition')\n",
    "fig.show()"
   ]
  },
  {
   "cell_type": "code",
   "execution_count": null,
   "id": "518d778b-9f4e-4ae9-aded-fea1b8a68e70",
   "metadata": {},
   "outputs": [],
   "source": [
    "fig = px.bar(x=hrdata['EducationField'].value_counts().index,\n",
    "             y=hrdata['EducationField'].value_counts(),\n",
    "             height=500, width=700,\n",
    "           text=(hrdata['EducationField'].value_counts()/len(hrdata['EducationField'])*100), \n",
    "             title='Education Fields Count')\n",
    "\n",
    "fig.update_traces(textposition='outside', \n",
    "                  texttemplate='%{text:.4s}%',\n",
    "                  marker=dict(color=['dodgerblue','deepskyblue','skyblue','lightskyblue','lightblue','powderblue'],\n",
    "                                                                                  line=dict(color='navy', width=2)))\n",
    "fig.show()"
   ]
  },
  {
   "cell_type": "code",
   "execution_count": null,
   "id": "d2d66b0a-36b3-45d3-a278-43dd4177bfb1",
   "metadata": {},
   "outputs": [],
   "source": [
    "fig = px.histogram(x=hrdata['EducationField'],\n",
    "                   color=hrdata['Attrition'],\n",
    "                  barmode='group',\n",
    "                  height=500,\n",
    "                  width=700,\n",
    "                  color_discrete_sequence=['cornflowerblue','steelblue'])\n",
    "fig.show()"
   ]
  },
  {
   "cell_type": "code",
   "execution_count": null,
   "id": "5bd6bdd7-3fa7-4256-b2ca-8b6c421caa6a",
   "metadata": {},
   "outputs": [],
   "source": [
    "hrdata['Attrition'] = hrdata.Attrition.map({'Yes':1,\n",
    "                                              'No':0})"
   ]
  },
  {
   "cell_type": "code",
   "execution_count": null,
   "id": "97bbb5b3-76c8-48af-baae-baea15a73660",
   "metadata": {},
   "outputs": [],
   "source": [
    "hrdata.columns"
   ]
  },
  {
   "cell_type": "code",
   "execution_count": null,
   "id": "f24f7461-aa81-4e0d-9003-c8425cafb7cc",
   "metadata": {},
   "outputs": [],
   "source": [
    "#hrdata.columns\n",
    "num_cols"
   ]
  },
  {
   "cell_type": "code",
   "execution_count": null,
   "id": "8d0cc409-2a70-498e-96dd-a5abf563d03e",
   "metadata": {},
   "outputs": [],
   "source": [
    "hrdata2 = hrdata[num_cols]"
   ]
  },
  {
   "cell_type": "code",
   "execution_count": null,
   "id": "b722ed00-1193-40d2-b9b0-429b6d3aae48",
   "metadata": {},
   "outputs": [],
   "source": [
    "x = hrdata2#.drop('Attrition',1) ### Drop before having the target variable\n",
    "y = hrdata['Attrition']\n",
    "\n",
    "print(x.shape)\n",
    "print(y.shape)"
   ]
  },
  {
   "cell_type": "code",
   "execution_count": null,
   "id": "efefbb11-7e2f-4b22-82f4-7996941dd499",
   "metadata": {},
   "outputs": [],
   "source": [
    "from sklearn.model_selection import train_test_split\n",
    "\n",
    "x_train, x_test, y_train, y_test = train_test_split(x,y, \n",
    "                                                    random_state=2021, \n",
    "                                                    test_size=0.2,\n",
    "                                                   stratify =y)"
   ]
  },
  {
   "cell_type": "code",
   "execution_count": null,
   "id": "2cc532a2-36b5-4ac6-8c1a-0d391c808e94",
   "metadata": {},
   "outputs": [],
   "source": [
    "accuracies =dict()\n",
    "recall = dict()"
   ]
  },
  {
   "cell_type": "code",
   "execution_count": null,
   "id": "b85c66b0-e725-4d83-a100-3506a34fb9a5",
   "metadata": {},
   "outputs": [],
   "source": [
    "# statistical learning\n",
    "from sklearn.linear_model import LogisticRegression\n",
    "\n",
    "# tree based methods\n",
    "from sklearn.tree import DecisionTreeClassifier\n",
    "from sklearn.ensemble import RandomForestClassifier\n",
    "\n",
    "# To measure performance\n",
    "from sklearn.metrics import accuracy_score\n",
    "from sklearn import metrics"
   ]
  },
  {
   "cell_type": "code",
   "execution_count": null,
   "id": "20b576c4-9618-4f3a-b86a-ea76d7f9b20a",
   "metadata": {},
   "outputs": [],
   "source": [
    "dt = DecisionTreeClassifier()\n",
    "dt.fit(x_train, y_train)\n",
    "\n",
    "y_pred = dt.predict(x_test)"
   ]
  },
  {
   "cell_type": "code",
   "execution_count": null,
   "id": "2092e1d9-2bf1-4c7e-bf0d-2488afd55e2d",
   "metadata": {},
   "outputs": [],
   "source": [
    "accuracies['Decision Tree Classifier'] = accuracy_score(y_pred, y_test)\n",
    "recall['Decision Tree Classifier'] = metrics.recall_score(y_test,y_pred)\n",
    "\n",
    "print('Accuracy of Decision Tree Classifier is: ', accuracy_score(y_test,y_pred))\n",
    "print('Recall Score of Decision Tree Classifier is: ', metrics.recall_score(y_test, y_pred))"
   ]
  },
  {
   "cell_type": "code",
   "execution_count": null,
   "id": "be4d7be4-f8d4-4193-8b10-79d40e484ec4",
   "metadata": {},
   "outputs": [],
   "source": [
    "from sklearn.metrics import confusion_matrix as cfm\n",
    "from sklearn.metrics import classification_report"
   ]
  },
  {
   "cell_type": "code",
   "execution_count": null,
   "id": "2ca1f2fc-0ff1-4a94-a83d-534b1ffb9212",
   "metadata": {},
   "outputs": [],
   "source": [
    "cfm(y_test, y_pred)"
   ]
  },
  {
   "cell_type": "code",
   "execution_count": null,
   "id": "f05959c2-90d9-4e3d-983e-920a5d756828",
   "metadata": {},
   "outputs": [],
   "source": [
    "print(classification_report(y_test, y_pred))"
   ]
  },
  {
   "cell_type": "code",
   "execution_count": null,
   "id": "b28dbbde-778a-4d00-a02e-22b68e1f8843",
   "metadata": {},
   "outputs": [],
   "source": [
    "lgr = LogisticRegression(max_iter=100000)\n",
    "lgr.fit(x_train, y_train)\n",
    "\n",
    "y_pred = lgr.predict(x_test)\n",
    "\n",
    "accuracies['Logistic Regression'] = accuracy_score(y_test, y_pred)\n",
    "recall['Logistic Regression'] = metrics.recall_score(y_test,y_pred)\n",
    "\n",
    "print('Accuracy Score of Logistic Regression is: ', accuracy_score(y_test, y_pred))\n",
    "print('Recall Score of Logistic Regression Model is: ', metrics.recall_score(y_test, y_pred))"
   ]
  },
  {
   "cell_type": "code",
   "execution_count": null,
   "id": "67b34a31-bb16-4d36-8706-786bd5f4d17f",
   "metadata": {},
   "outputs": [],
   "source": [
    "rf = RandomForestClassifier()\n",
    "\n",
    "rf.fit(x_train, y_train)\n",
    "y_pred = rf.predict(x_test)\n",
    "\n",
    "\n",
    "accuracies['Random Forest Classifier'] = accuracy_score( y_test, y_pred)\n",
    "recall['Random Forest Classifier'] = metrics.recall_score(y_test,y_pred)\n",
    "\n",
    "\n",
    "print('Accuracy Score of Random Forest Classifier is: ', accuracy_score(y_test, y_pred))\n",
    "print('Recall Score of Random Forest Classifier Model is: ', metrics.recall_score(y_test, y_pred))"
   ]
  },
  {
   "cell_type": "code",
   "execution_count": null,
   "id": "f0135fef-6c7f-4d12-968b-4e1d41e10834",
   "metadata": {},
   "outputs": [],
   "source": [
    "recall = pd.DataFrame(list(recall.items()), columns=['Model', 'Recall Score'])\n",
    "accuracies = pd.DataFrame(list(accuracies.items()),columns=['Model','Accuracy Score'])"
   ]
  },
  {
   "cell_type": "code",
   "execution_count": null,
   "id": "6e61d4eb-59dc-4979-b4e2-310a401cff56",
   "metadata": {},
   "outputs": [],
   "source": [
    "accuracies_df = pd.merge(accuracies, recall, on='Model')\n",
    "accuracies_df"
   ]
  },
  {
   "cell_type": "code",
   "execution_count": null,
   "id": "ea5b7501-b496-4933-aa86-8bfa97d17727",
   "metadata": {},
   "outputs": [],
   "source": [
    "from sklearn.ensemble import VotingClassifier\n",
    "\n",
    "ensemble_clf = VotingClassifier(estimators=[('dt', dt),('rf', rf),('lgr', lgr)],\n",
    "                                voting='hard'\n",
    "                               )\n",
    "\n",
    "ensemble_clf.fit(x_train, y_train)\n",
    "y_pred = ensemble_clf.predict(x_test)\n",
    "\n",
    "\n",
    "accuracies['Democratic Classifier'] = accuracy_score( y_test, y_pred)\n",
    "recall['Democratic Classifier'] = metrics.recall_score(y_test,y_pred)\n",
    "\n",
    "\n",
    "print('Accuracy Score of Democratic Classifier is: ', accuracy_score(y_test, y_pred))\n",
    "print('Recall Score of Democratic Classifier Model is: ', metrics.recall_score(y_test, y_pred))"
   ]
  },
  {
   "cell_type": "code",
   "execution_count": null,
   "id": "cecbc025-430d-4b6e-8788-cd8ed769ef38",
   "metadata": {},
   "outputs": [],
   "source": [
    "?VotingClassifier"
   ]
  },
  {
   "cell_type": "code",
   "execution_count": null,
   "id": "fe43e464-e34c-4fca-a37c-81c313fe89d5",
   "metadata": {},
   "outputs": [],
   "source": []
  }
 ],
 "metadata": {
  "kernelspec": {
   "display_name": "Python 3",
   "language": "python",
   "name": "python3"
  },
  "language_info": {
   "codemirror_mode": {
    "name": "ipython",
    "version": 3
   },
   "file_extension": ".py",
   "mimetype": "text/x-python",
   "name": "python",
   "nbconvert_exporter": "python",
   "pygments_lexer": "ipython3",
   "version": "3.9.5"
  }
 },
 "nbformat": 4,
 "nbformat_minor": 5
}
